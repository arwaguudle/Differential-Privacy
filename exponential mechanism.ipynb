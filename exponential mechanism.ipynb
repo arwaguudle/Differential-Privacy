{
 "cells": [
  {
   "cell_type": "code",
   "execution_count": 2,
   "metadata": {},
   "outputs": [],
   "source": [
    "import numpy as np\n",
    "import pandas as pd\n",
    "import matplotlib.pyplot as plt\n"
   ]
  },
  {
   "cell_type": "code",
   "execution_count": 42,
   "metadata": {},
   "outputs": [
    {
     "name": "stdout",
     "output_type": "stream",
     "text": [
      "Probabilities for epsilon 0.0001 : [33.388887  33.3555148 33.2555982]\n",
      "Probabilities for epsilon 0.001 : [33.88866378 33.55146595 32.55987027]\n",
      "Probabilities for epsilon 0.01 : [38.8325768  35.13716853 26.03025467]\n",
      "Probabilities for epsilon 0.1 : [72.13991843 26.53879288  1.3212887 ]\n",
      "Probabilities for epsilon 1 : [9.99954602e+01 4.53978687e-03 4.24816139e-16]\n",
      "Probabilities for epsilon 10 : [1.00000000e+002 3.72007598e-042 1.91516960e-172]\n"
     ]
    }
   ],
   "source": [
    "#exponential mechanism\n",
    "#used for non numerical outputs\n",
    "\n",
    "def exponential_mechanism(score,epsilon,sensitivty):\n",
    "    #calculate the probabilities of each movie being selected\n",
    "    probabilities = np.exp(epsilon * np.array(score) / (2 * sensitivty))\n",
    "    probabilities /= np.sum(probabilities)\n",
    "    \n",
    "    #select a movie based on the probabilities\n",
    "    selected_movie = np.random.choice(movies, p=probabilities)\n",
    "    \n",
    "    return selected_movie\n",
    "\n",
    "#example usage\n",
    "movies =[\"A\",\"B\",\"C\"]\n",
    "score = [100,80,20]\n",
    "epsilon_values = [0.0001,0.001,0.01,0.1,1,10]\n",
    "sensitivty = 1.0\n",
    "\n",
    "\n",
    "for epsilon in epsilon_values:\n",
    "    selected_movie = exponential_mechanism(score, epsilon, sensitivty)\n",
    "    #printing the probabilities as percentages\n",
    "    print(\"Probabilities for epsilon\",epsilon,\":\", (np.exp(epsilon * np.array(score) / (2 * sensitivty)) / np.sum(np.exp(epsilon * np.array(score) / (2 * sensitivty)))) * 100)\n",
    "    \n"
   ]
  },
  {
   "cell_type": "code",
   "execution_count": 4,
   "metadata": {},
   "outputs": [],
   "source": [
    "#privacy loss\n",
    "#privacy loss is the amount of information that is leaked about an individual in the dataset\n",
    "#it is calculated using the following formula:\n"
   ]
  }
 ],
 "metadata": {
  "kernelspec": {
   "display_name": "base",
   "language": "python",
   "name": "python3"
  },
  "language_info": {
   "codemirror_mode": {
    "name": "ipython",
    "version": 3
   },
   "file_extension": ".py",
   "mimetype": "text/x-python",
   "name": "python",
   "nbconvert_exporter": "python",
   "pygments_lexer": "ipython3",
   "version": "3.12.7"
  }
 },
 "nbformat": 4,
 "nbformat_minor": 2
}
