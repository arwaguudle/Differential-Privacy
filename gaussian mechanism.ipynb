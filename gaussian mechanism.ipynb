{
 "cells": [
  {
   "cell_type": "code",
   "execution_count": 1,
   "metadata": {},
   "outputs": [],
   "source": [
    "import numpy as np\n",
    "\n",
    "\n",
    "department_names = [\"Engineering\", \"Marketing\", \"HR\"]\n",
    "department_salaries = {\n",
    "    \"Engineering\": [120,95,110,105,130],\n",
    "    \"Marketing\": [80,75,90,85],\n",
    "    \"HR\": [60,65,70]\n",
    "}"
   ]
  },
  {
   "cell_type": "code",
   "execution_count": null,
   "metadata": {},
   "outputs": [
    {
     "name": "stdout",
     "output_type": "stream",
     "text": [
      "82.5\n",
      "560\n"
     ]
    }
   ],
   "source": [
    "#calculating the true averages salaries for each department\n",
    "avg_salaries = {}\n",
    "for name in department_names:\n",
    "    salaries = department_salaries[name]\n",
    "    avg_salaries[name] = np.mean(salaries)\n",
    "\n",
    "\n",
    "#calculating the true averages salaries for each department\n",
    "print(avg_salaries[\"Marketing\"])\n",
    "\n",
    "\n",
    "#compting the sensitivy\n",
    "for i in department_names:\n",
    "    "
   ]
  }
 ],
 "metadata": {
  "kernelspec": {
   "display_name": "base",
   "language": "python",
   "name": "python3"
  },
  "language_info": {
   "codemirror_mode": {
    "name": "ipython",
    "version": 3
   },
   "file_extension": ".py",
   "mimetype": "text/x-python",
   "name": "python",
   "nbconvert_exporter": "python",
   "pygments_lexer": "ipython3",
   "version": "3.12.7"
  }
 },
 "nbformat": 4,
 "nbformat_minor": 2
}
