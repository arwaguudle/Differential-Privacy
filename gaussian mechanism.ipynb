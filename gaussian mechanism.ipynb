{
 "cells": [
  {
   "cell_type": "code",
   "execution_count": 1,
   "metadata": {},
   "outputs": [
    {
     "name": "stdout",
     "output_type": "stream",
     "text": [
      "Noisy average: $59457.37\n"
     ]
    }
   ],
   "source": [
    "import numpy as np\n",
    "\n",
    "def gaussian_mechanism(true_value, epsilon, delta, sensitivity):\n",
    "    sigma = (sensitivity / epsilon) * np.sqrt(2 * np.log(1.25 / delta))\n",
    "    return true_value + np.random.normal(0, sigma)\n",
    "\n",
    "# Example usage:\n",
    "avg_salary = 50000\n",
    "epsilon = 0.1\n",
    "delta = 1e-5\n",
    "sensitivity = 100  # Max change by one individual\n",
    "noisy_avg = gaussian_mechanism(avg_salary, epsilon, delta, sensitivity)\n",
    "print(f\"Noisy average: ${noisy_avg:.2f}\")"
   ]
  }
 ],
 "metadata": {
  "kernelspec": {
   "display_name": "base",
   "language": "python",
   "name": "python3"
  },
  "language_info": {
   "codemirror_mode": {
    "name": "ipython",
    "version": 3
   },
   "file_extension": ".py",
   "mimetype": "text/x-python",
   "name": "python",
   "nbconvert_exporter": "python",
   "pygments_lexer": "ipython3",
   "version": "3.12.7"
  }
 },
 "nbformat": 4,
 "nbformat_minor": 2
}
