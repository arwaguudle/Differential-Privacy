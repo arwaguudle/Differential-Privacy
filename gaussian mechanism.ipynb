{
 "cells": [
  {
   "cell_type": "code",
   "execution_count": 1,
   "metadata": {},
   "outputs": [],
   "source": [
    "import numpy as np\n",
    "\n",
    "\n",
    "department_names = [\"Engineering\", \"Marketing\", \"HR\"]\n",
    "department_salaries = {\n",
    "    \"Engineering\": [120,95,110,105,130],\n",
    "    \"Marketing\": [80,75,90,85],\n",
    "    \"HR\": [60,65,70]\n",
    "}"
   ]
  },
  {
   "cell_type": "code",
   "execution_count": 77,
   "metadata": {},
   "outputs": [
    {
     "name": "stdout",
     "output_type": "stream",
     "text": [
      "Final Noisy Output:\n",
      "{'Engineering': 140.36274347309518, 'Marketing': 86.62933598923718, 'HR': 57.08806195820283}\n",
      "vs\n",
      "{'Engineering': 112.0, 'Marketing': 82.5, 'HR': 65.0}\n"
     ]
    }
   ],
   "source": [
    "#calculating the true averages salaries for each department\n",
    "avg_salaries = {} \n",
    "sum_salaries = {}\n",
    "min_salaries = {}\n",
    "max_salaries = {}\n",
    "total_salaries = {}\n",
    "for name in department_names:\n",
    "    salaries = department_salaries[name]\n",
    "    avg_salaries[name] = np.mean(salaries)\n",
    "    sum_salaries[name] = np.sum(salaries)\n",
    "    min_salaries[name] = np.min(salaries)\n",
    "    max_salaries[name] = np.max(salaries)\n",
    "    total_salaries[name] = len(salaries)\n",
    "\n",
    "\n",
    "#computing the sensitivity\n",
    "sensitivity = {}\n",
    "change1 = {}\n",
    "change2 = {}\n",
    "\n",
    "\n",
    "for name in department_names:\n",
    "    change1[name] = (sum_salaries[name]-max_salaries[name])/(total_salaries[name]-1)\n",
    "    change2[name] = (sum_salaries[name]-min_salaries[name])/(total_salaries[name]-1)\n",
    "    sensitivity[name] = max(np.abs(avg_salaries[name]-change1[name]),np.abs(avg_salaries[name]-change2[name]))\n",
    "\n",
    "\n",
    "#calculating global sensitivity\n",
    "global_sensitivity = 0\n",
    "for name in department_names:\n",
    "    global_sensitivity += sensitivity[name]**2\n",
    "global_sensitivity = np.sqrt(global_sensitivity)\n",
    "\n",
    "\n",
    "\n",
    "#calculating the gaussian noise standard deviation\n",
    "epsilon = 0.5\n",
    "delta = 0.01\n",
    "sigma = (global_sensitivity)*np.sqrt(2*np.log(1.25/delta))/epsilon\n",
    "\n",
    "\n",
    "\n",
    "#adding noise to eacu department averages\n",
    "noisy_avg_salaries = {}\n",
    "for name in department_names:\n",
    "    noise = np.random.normal(0,sigma)\n",
    "    noisy_avg_salaries[name] = avg_salaries[name] + noise\n",
    "\n",
    "\n",
    "\n",
    "#final output\n",
    "print(\"Final Noisy Output:\")\n",
    "print(noisy_avg_salaries)\n",
    "print(\"vs\")\n",
    "print(avg_salaries)\n"
   ]
  }
 ],
 "metadata": {
  "kernelspec": {
   "display_name": "base",
   "language": "python",
   "name": "python3"
  },
  "language_info": {
   "codemirror_mode": {
    "name": "ipython",
    "version": 3
   },
   "file_extension": ".py",
   "mimetype": "text/x-python",
   "name": "python",
   "nbconvert_exporter": "python",
   "pygments_lexer": "ipython3",
   "version": "3.12.7"
  }
 },
 "nbformat": 4,
 "nbformat_minor": 2
}
