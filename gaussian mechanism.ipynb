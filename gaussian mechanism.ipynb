{
 "cells": [
  {
   "cell_type": "code",
   "execution_count": 1,
   "metadata": {},
   "outputs": [],
   "source": [
    "import numpy as np\n",
    "\n",
    "\n",
    "department_names = [\"Engineering\", \"Marketing\", \"HR\"]\n",
    "department_salaries = {\n",
    "    \"Engineering\": [120,95,110,105,130],\n",
    "    \"Marketing\": [80,75,90,85],\n",
    "    \"HR\": [60,65,70]\n",
    "}"
   ]
  },
  {
   "cell_type": "code",
   "execution_count": 5,
   "metadata": {},
   "outputs": [
    {
     "name": "stdout",
     "output_type": "stream",
     "text": [
      "Final Noisy Output:\n",
      "{'Engineering': -619.5023470942508, 'Marketing': -14056.03570310232, 'HR': 8391.502894490653}\n",
      "vs\n",
      "{'Engineering': 112.0, 'Marketing': 82.5, 'HR': 65.0}\n",
      "\n",
      "Final Noisy Output:\n",
      "{'Engineering': 1098.227143751968, 'Marketing': -492.33246826020036, 'HR': 486.7235204634549}\n",
      "vs\n",
      "{'Engineering': 112.0, 'Marketing': 82.5, 'HR': 65.0}\n",
      "\n",
      "Final Noisy Output:\n",
      "{'Engineering': 318.6516491413571, 'Marketing': 141.51441999798854, 'HR': -89.27866689845743}\n",
      "vs\n",
      "{'Engineering': 112.0, 'Marketing': 82.5, 'HR': 65.0}\n",
      "\n",
      "Final Noisy Output:\n",
      "{'Engineering': 166.91152743982, 'Marketing': 150.13583845218238, 'HR': 57.509576733943476}\n",
      "vs\n",
      "{'Engineering': 112.0, 'Marketing': 82.5, 'HR': 65.0}\n",
      "\n",
      "Final Noisy Output:\n",
      "{'Engineering': 158.68361590545157, 'Marketing': 82.95379547542036, 'HR': 75.15653652892578}\n",
      "vs\n",
      "{'Engineering': 112.0, 'Marketing': 82.5, 'HR': 65.0}\n",
      "\n",
      "Final Noisy Output:\n",
      "{'Engineering': 113.73494337088603, 'Marketing': 82.31386894488568, 'HR': 65.05781246502343}\n",
      "vs\n",
      "{'Engineering': 112.0, 'Marketing': 82.5, 'HR': 65.0}\n",
      "\n"
     ]
    }
   ],
   "source": [
    "#calculating the true averages salaries for each department\n",
    "avg_salaries = {} \n",
    "sum_salaries = {}\n",
    "min_salaries = {}\n",
    "max_salaries = {}\n",
    "total_salaries = {}\n",
    "for name in department_names:\n",
    "    salaries = department_salaries[name]\n",
    "    avg_salaries[name] = np.mean(salaries)\n",
    "    sum_salaries[name] = np.sum(salaries)\n",
    "    min_salaries[name] = np.min(salaries)\n",
    "    max_salaries[name] = np.max(salaries)\n",
    "    total_salaries[name] = len(salaries)\n",
    "\n",
    "\n",
    "#computing the sensitivity\n",
    "sensitivity = {}\n",
    "change1 = {}\n",
    "change2 = {}\n",
    "\n",
    "\n",
    "for name in department_names:\n",
    "    change1[name] = (sum_salaries[name]-max_salaries[name])/(total_salaries[name]-1)\n",
    "    change2[name] = (sum_salaries[name]-min_salaries[name])/(total_salaries[name]-1)\n",
    "    sensitivity[name] = max(np.abs(avg_salaries[name]-change1[name]),np.abs(avg_salaries[name]-change2[name]))\n",
    "\n",
    "\n",
    "#calculating global sensitivity\n",
    "global_sensitivity = 0\n",
    "for name in department_names:\n",
    "    global_sensitivity += sensitivity[name]**2\n",
    "global_sensitivity = np.sqrt(global_sensitivity)\n",
    "\n",
    "\n",
    "epsilon_values = [0.001,0.01,0.1,0.5,1,10]\n",
    "delta = 0.01\n",
    "#calculating the gaussian noise standard deviation\n",
    "for epsilon in epsilon_values:\n",
    "    sigma = (global_sensitivity)*np.sqrt(2*np.log(1.25/delta))/epsilon\n",
    "\n",
    "\n",
    "\n",
    "    #adding noise to eacu department averages\n",
    "    noisy_avg_salaries = {}\n",
    "    for name in department_names:\n",
    "        noise = np.random.normal(0,sigma)\n",
    "        noisy_avg_salaries[name] = avg_salaries[name] + noise\n",
    "\n",
    "\n",
    "\n",
    "    #final output\n",
    "    print(\"Final Noisy Output:\")\n",
    "    print(noisy_avg_salaries)\n",
    "    print(\"vs\")\n",
    "    print(avg_salaries)\n",
    "    print()\n"
   ]
  },
  {
   "cell_type": "code",
   "execution_count": 3,
   "metadata": {},
   "outputs": [],
   "source": [
    "#its worth noting that an iteration between findding the noisy average has been made because we are using a random number generator to add noise to the average salaries.\n",
    "#this means that the output will be different each time the code is run.\n",
    "\n",
    "#need to give a conclusion\n"
   ]
  }
 ],
 "metadata": {
  "kernelspec": {
   "display_name": "base",
   "language": "python",
   "name": "python3"
  },
  "language_info": {
   "codemirror_mode": {
    "name": "ipython",
    "version": 3
   },
   "file_extension": ".py",
   "mimetype": "text/x-python",
   "name": "python",
   "nbconvert_exporter": "python",
   "pygments_lexer": "ipython3",
   "version": "3.12.7"
  }
 },
 "nbformat": 4,
 "nbformat_minor": 2
}
