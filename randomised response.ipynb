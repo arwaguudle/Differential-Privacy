{
 "cells": [
  {
   "cell_type": "code",
   "execution_count": null,
   "id": "242583f1-5633-456d-af9c-1f51d0fe928b",
   "metadata": {},
   "outputs": [
    {
     "name": "stdout",
     "output_type": "stream",
     "text": [
      "Requirement already satisfied: diffprivlib in c:\\users\\ahmed\\appdata\\local\\packages\\pythonsoftwarefoundation.python.3.11_qbz5n2kfra8p0\\localcache\\local-packages\\python311\\site-packages (0.6.6)\n",
      "Requirement already satisfied: numpy>=2.0.0 in c:\\users\\ahmed\\appdata\\local\\packages\\pythonsoftwarefoundation.python.3.11_qbz5n2kfra8p0\\localcache\\local-packages\\python311\\site-packages (from diffprivlib) (2.2.4)\n",
      "Requirement already satisfied: scikit-learn>=1.4.0 in c:\\users\\ahmed\\appdata\\local\\packages\\pythonsoftwarefoundation.python.3.11_qbz5n2kfra8p0\\localcache\\local-packages\\python311\\site-packages (from diffprivlib) (1.6.1)\n",
      "Requirement already satisfied: scipy>=1.13.0 in c:\\users\\ahmed\\appdata\\local\\packages\\pythonsoftwarefoundation.python.3.11_qbz5n2kfra8p0\\localcache\\local-packages\\python311\\site-packages (from diffprivlib) (1.15.2)\n",
      "Requirement already satisfied: joblib>=0.16.0 in c:\\users\\ahmed\\appdata\\local\\packages\\pythonsoftwarefoundation.python.3.11_qbz5n2kfra8p0\\localcache\\local-packages\\python311\\site-packages (from diffprivlib) (1.4.2)\n",
      "Requirement already satisfied: setuptools>=49.0.0 in c:\\program files\\windowsapps\\pythonsoftwarefoundation.python.3.11_3.11.2544.0_x64__qbz5n2kfra8p0\\lib\\site-packages (from diffprivlib) (65.5.0)\n",
      "Requirement already satisfied: threadpoolctl>=3.1.0 in c:\\users\\ahmed\\appdata\\local\\packages\\pythonsoftwarefoundation.python.3.11_qbz5n2kfra8p0\\localcache\\local-packages\\python311\\site-packages (from scikit-learn>=1.4.0->diffprivlib) (3.6.0)\n"
     ]
    },
    {
     "name": "stderr",
     "output_type": "stream",
     "text": [
      "\n",
      "[notice] A new release of pip is available: 24.0 -> 25.0.1\n",
      "[notice] To update, run: C:\\Users\\ahmed\\AppData\\Local\\Microsoft\\WindowsApps\\PythonSoftwareFoundation.Python.3.11_qbz5n2kfra8p0\\python.exe -m pip install --upgrade pip\n"
     ]
    },
    {
     "name": "stdout",
     "output_type": "stream",
     "text": [
      "Randomized Yes Count: 13414.1\n",
      "Randomized No Count: 27773.9\n",
      "Observed Proportion (Noisy): 0.326\n",
      "Estimated True Proportion: 0.151\n"
     ]
    }
   ],
   "source": [
    "# Install diffprivlib if not installed\n",
    "!pip install diffprivlib\n",
    "\n",
    "import pandas as pd\n",
    "import numpy as np\n",
    "import random\n",
    "from diffprivlib.mechanisms import Laplace\n",
    "\n",
    "# Load dataset\n",
    "df = pd.read_csv(\"bank_add_full.csv\")\n",
    "\n",
    "# Convert 'personal loan' column: \"yes\" → 1, \"no\" → 0\n",
    "df[\"loan\"] = df[\"loan\"].map({\"yes\": 1, \"no\": 0})\n",
    "\n",
    "\n",
    "# Select the column to apply randomized response\n",
    "select_col1 = df[\"loan\"]\n",
    "\n",
    "\n",
    "def diff_privacy(data):\n",
    "\n",
    "    # Initialize randomized response counters\n",
    "    yescount = 0\n",
    "    nocount = 0\n",
    "    \n",
    "    # Apply the Coin Flip Randomized Response\n",
    "    for value in data:\n",
    "        coin1 = random.randint(1, 2)  # Heads = 1, Tails = 2\n",
    "        \n",
    "        if coin1 == 2:  # Tails → Respond truthfully\n",
    "            if value == 1:  # Original answer was \"yes\"\n",
    "                yescount += 1\n",
    "            else:\n",
    "                nocount += 1\n",
    "        else:  # Heads → Flip again and randomize response\n",
    "            coin2 = random.randint(1, 2)\n",
    "            if coin2 == 1:\n",
    "                yescount += 1  # Force \"yes\"\n",
    "            else:\n",
    "                nocount += 1  # Force \"no\"\n",
    "    \n",
    "    # Calculate the observed noisy proportion\n",
    "    yes_proportion = yescount / (yescount + nocount)\n",
    "    \n",
    "    # Estimate the true fraction of people with property P\n",
    "    estimated_p = 2 * (yes_proportion - 0.25)\n",
    "    estimated_p = max(0, min(1, estimated_p))  # Ensure it's in range [0,1]\n",
    "\n",
    "    return yes_proportion, yescount, nocount, estimated_p\n",
    "\n",
    "\n",
    "\n",
    "def randomized_diff_privacy(data, N_iter): \n",
    "    '''\n",
    "    Randomized differential privacy process.\n",
    "    Input: data column, N_iter number of iterations\n",
    "    Output: average of output variables from diff_privacy (yes_proportion, yescount, nocount, estimated_p) for N_iter\n",
    "    '''\n",
    "    #initialize variables as zero\n",
    "    Yes_proportion = 0\n",
    "    Yescount = 0\n",
    "    Nocount= 0\n",
    "    Estimated_p = 0\n",
    "\n",
    "    #repeat computation N_iter times, adding the outputs\n",
    "    for _ in range(N_iter):\n",
    "        yes_proportion, yescount, nocount, estimated_p = diff_privacy(data)\n",
    "        Yes_proportion += yes_proportion\n",
    "        Yescount += yescount\n",
    "        Nocount += nocount\n",
    "        Estimated_p += estimated_p\n",
    "\n",
    "    #return averages\n",
    "    return Yes_proportion/N_iter, Yescount/N_iter, Nocount/N_iter, Estimated_p/N_iter\n",
    "\n",
    "\n",
    "Yes_proportion, Yescount, Nocount, Estimated_p = randomized_diff_privacy(select_col1, 100)\n",
    "\n",
    "# Display results\n",
    "print(f\"Randomized Yes Count: {Yescount}\")\n",
    "print(f\"Randomized No Count: {Nocount}\")\n",
    "print(f\"Observed Proportion (Noisy): {Yes_proportion:.3f}\")\n",
    "print(f\"Estimated True Proportion: {Estimated_p:.3f}\")"
   ]
  },
  {
   "cell_type": "code",
   "execution_count": 7,
   "id": "97571561-31b4-4e62-99af-4d78ea1d5011",
   "metadata": {},
   "outputs": [],
   "source": [
    "Yes = []\n",
    "No = []\n",
    "Est_p = []\n",
    "\n",
    "for N_iter in np.arange(50, 501, 50):\n",
    "    Yes_proportion, Yescount, Nocount, Estimated_p = randomized_diff_privacy(select_col1, N_iter)\n",
    "    Yes.append(Yes_proportion)\n",
    "    "
   ]
  },
  {
   "cell_type": "code",
   "execution_count": 10,
   "id": "48ea81f4-28f3-4751-beff-c269098731b7",
   "metadata": {},
   "outputs": [
    {
     "data": {
      "image/png": "[encoded data removed]",
      "text/plain": [
       "<Figure size 640x480 with 1 Axes>"
      ]
     },
     "metadata": {},
     "output_type": "display_data"
    }
   ],
   "source": [
    "import matplotlib.pyplot as plt\n",
    "plt.ylim(ymin = 0.32, ymax=0.33)\n",
    "plt.plot(np.arange(50, 501, 50), Yes);"
   ]
  },
  {
   "cell_type": "code",
   "execution_count": 11,
   "id": "ae805090-701d-448b-80cb-b10207a7bad9",
   "metadata": {},
   "outputs": [
    {
     "name": "stdout",
     "output_type": "stream",
     "text": [
      "Randomized Yes Count: 21004\n",
      "Randomized No Count: 20184\n",
      "Observed Proportion (Noisy): 0.510\n",
      "Estimated True Proportion: 0.520\n",
      "Noisy Proportion with Laplace Mechanism: 0.520\n",
      "   housing\n",
      "0      0.0\n",
      "1      0.0\n",
      "2      1.0\n",
      "3      0.0\n",
      "4      0.0\n"
     ]
    }
   ],
   "source": [
    "import pandas as pd\n",
    "import numpy as np\n",
    "import random\n",
    "\n",
    "# Load dataset\n",
    "df = pd.read_csv(\"bank_add_full.csv\")\n",
    "\n",
    "# Convert 'housing' column: \"yes\" → 1, \"no\" → 0\n",
    "df[\"housing\"] = df[\"housing\"].map({\"yes\": 1, \"no\": 0})\n",
    "\n",
    "# Select the column to apply randomized response\n",
    "select_col2 = df[\"housing\"]  # Now using select_col2 instead of select_col1\n",
    "\n",
    "# Initialize randomized response counters\n",
    "yescount = 0\n",
    "nocount = 0\n",
    "\n",
    "# Apply the Coin Flip Randomized Response\n",
    "for value in select_col2:\n",
    "    coin1 = random.randint(1, 2)  # Heads = 1, Tails = 2\n",
    "    \n",
    "    if coin1 == 2:  # Tails → Respond truthfully\n",
    "        if value == 1:  # Original answer was \"yes\"\n",
    "            yescount += 1\n",
    "        else:\n",
    "            nocount += 1\n",
    "    else:  # Heads → Flip again and randomize response\n",
    "        coin2 = random.randint(1, 2)\n",
    "        if coin2 == 1:\n",
    "            yescount += 1  # Force \"yes\"\n",
    "        else:\n",
    "            nocount += 1  # Force \"no\"\n",
    "\n",
    "# Prevent division by zero\n",
    "total_count = yescount + nocount\n",
    "if total_count == 0:\n",
    "    yes_proportion = 0  # Avoid division error\n",
    "else:\n",
    "    yes_proportion = yescount / total_count  # Calculate observed noisy proportion\n",
    "\n",
    "# Estimate the true fraction of people with property P\n",
    "estimated_p = 2 * (yes_proportion - 0.25)\n",
    "estimated_p = max(0, min(1, estimated_p))  # Ensure it's in range [0,1]\n",
    "\n",
    "# Display results\n",
    "print(f\"Randomized Yes Count: {yescount}\")\n",
    "print(f\"Randomized No Count: {nocount}\")\n",
    "print(f\"Observed Proportion (Noisy): {yes_proportion:.3f}\")\n",
    "print(f\"Estimated True Proportion: {estimated_p:.3f}\")\n",
    "\n",
    "# Apply the Laplace Mechanism for Differential Privacy\n",
    "sensitivity = 1 / len(df)  # Sensitivity calculation (1 change per participant)\n",
    "epsilon = 1.0  # Privacy budget\n",
    "noise_scale = sensitivity / epsilon\n",
    "\n",
    "# Generate Laplace noise\n",
    "laplace_noise = np.random.laplace(0, noise_scale)\n",
    "\n",
    "# Apply noise to the estimated proportion\n",
    "laplace_mechanism = estimated_p + laplace_noise\n",
    "laplace_mechanism = max(0, min(1, laplace_mechanism))  # Keep in range [0,1]\n",
    "\n",
    "# Display DP results\n",
    "print(f\"Noisy Proportion with Laplace Mechanism: {laplace_mechanism:.3f}\")\n",
    "\n",
    "# Show first few rows of the housing column\n",
    "print(df[[\"housing\"]].head())\n"
   ]
  }
 ],
 "metadata": {
  "kernelspec": {
   "display_name": "Python 3",
   "language": "python",
   "name": "python3"
  },
  "language_info": {
   "codemirror_mode": {
    "name": "ipython",
    "version": 3
   },
   "file_extension": ".py",
   "mimetype": "text/x-python",
   "name": "python",
   "nbconvert_exporter": "python",
   "pygments_lexer": "ipython3",
   "version": "3.11.9"
  }
 },
 "nbformat": 4,
 "nbformat_minor": 5
}
