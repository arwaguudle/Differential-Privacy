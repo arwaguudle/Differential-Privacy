{
 "cells": [
  {
   "cell_type": "code",
   "execution_count": 7,
   "metadata": {},
   "outputs": [],
   "source": [
    "import numpy as np\n",
    "import pandas as pd\n",
    "import matplotlib.pyplot as plt\n",
    "import random "
   ]
  },
  {
   "cell_type": "code",
   "execution_count": 9,
   "metadata": {},
   "outputs": [
    {
     "name": "stdout",
     "output_type": "stream",
     "text": [
      "For the first dataset: Yes:  46 No:  54\n",
      "For the second dataset: Yes:  53 No:  47\n"
     ]
    }
   ],
   "source": [
    "#loading the two datasets\n",
    "sensitive_1 = pd.read_csv('sensitive_responses.csv')\n",
    "sensitive_2 = pd.read_csv('new_sensitive_responses.csv')\n",
    "\n",
    "totalpeople = len(sensitive_1[\"Person\"])\n",
    "\n",
    "\n",
    "#writing down the actual number of people's answers\n",
    "actualyes1 = len(sensitive_1[sensitive_1[\"Response\"] == \"Yes\"])\n",
    "actualno1 = len(sensitive_1[sensitive_1[\"Response\"] == \"No\"])\n",
    "actualyes2 = len(sensitive_2[sensitive_2[\"Response\"] == \"Yes\"])\n",
    "actualno2 = len(sensitive_2[sensitive_2[\"Response\"] == \"No\"])\n",
    "\n",
    "print(\"For the first dataset: Yes: \", actualyes1, \"No: \", actualno1)\n",
    "print(\"For the second dataset: Yes: \", actualyes2, \"No: \", actualno2)"
   ]
  },
  {
   "cell_type": "code",
   "execution_count": 24,
   "metadata": {},
   "outputs": [
    {
     "name": "stdout",
     "output_type": "stream",
     "text": [
      "For the first dataset: random yes =  51\n",
      "For the first dataset: random no =  49\n",
      "0.51\n",
      "0.52\n"
     ]
    }
   ],
   "source": [
    "#for the first sensitive dataset\n",
    "yescount_1 = 0\n",
    "nocount_1 = 0\n",
    "for i in range(0,totalpeople):\n",
    "    coin1 = random.randint(1,2) #heads is 1 tails is 2\n",
    "    if coin1 == 1: #if the coin flipped reveals a tails then we flip the coin again\n",
    "        coin2 = random.randint(1,2)\n",
    "        if coin2==1: #if we get a heads for the second coin-flip then the response is \"yes\" regardless of the truth\n",
    "            yescount_1 += 1\n",
    "        if coin2 ==2: #if we get a tails for the second coin-flip then the response is \"no\" regardless of the truth\n",
    "            nocount_1 += 1\n",
    "    else: #if we get heads the code will look at the response of the csv file and determine if its \"yes\" or \"no\" (truthully)\n",
    "        if sensitive_1[\"Response\"].iloc[i] == \"Yes\":\n",
    "            yescount_1+=1\n",
    "        else:\n",
    "            nocount_1+=1\n",
    "print(\"For the first dataset: random yes = \",yescount_1)\n",
    "print(\"For the first dataset: random no = \",nocount_1)\n",
    "#calculating the proportions\n",
    "yes_proportion_1 = yescount_1/totalpeople\n",
    " \n",
    "# Estimate the true fraction of people with property P\n",
    "estimated_p_1 = 2 * (yes_proportion_1 - 0.25)\n",
    "estimated_p_1 = max(0, min(1, estimated_p_1))  # Ensure it's in range [0,1]\n",
    " \n",
    " \n",
    "print(yes_proportion_1)\n",
    "print(estimated_p_1)"
   ]
  },
  {
   "cell_type": "code",
   "execution_count": 25,
   "metadata": {},
   "outputs": [
    {
     "name": "stdout",
     "output_type": "stream",
     "text": [
      "For the second dataset: random yes =  58\n",
      "For the second dataset: random no =  42\n",
      "0.58\n",
      "0.6599999999999999\n"
     ]
    }
   ],
   "source": [
    "#for the second sensitive dataset\n",
    "#for the first sensitive dataset\n",
    "yescount_2 = 0\n",
    "nocount_2 = 0\n",
    "for i in range(0,totalpeople):\n",
    "    coin1 = random.randint(1,2) #heads is 1 tails is 2\n",
    "    if coin1 == 1: #if the coin flipped reveals a tails then we flip the coin again\n",
    "        coin2 = random.randint(1,2)\n",
    "        if coin2==1: #if we get a heads for the second coin-flip then the response is \"yes\" regardless of the truth\n",
    "            yescount_2 += 1\n",
    "        if coin2 ==2: #if we get a tails for the second coin-flip then the response is \"no\" regardless of the truth\n",
    "            nocount_2 += 1\n",
    "    else: #if we get heads the code will look at the response of the csv file and determine if its \"yes\" or \"no\" (truthully)\n",
    "        if sensitive_2[\"Response\"].iloc[i] == \"Yes\":\n",
    "            yescount_2+=1\n",
    "        else:\n",
    "            nocount_2+=1\n",
    "print(\"For the second dataset: random yes = \",yescount_2)\n",
    "print(\"For the second dataset: random no = \",nocount_2)\n",
    " \n",
    "#calculating the proportions\n",
    "yes_proportion_2 = yescount_2/totalpeople\n",
    " \n",
    "# Estimate the true fraction of people with property P\n",
    "estimated_p_2 = 2 * (yes_proportion_2 - 0.25)\n",
    "estimated_p_2 = max(0, min(1, estimated_p_2))  # Ensure it's in range [0,1]\n",
    " \n",
    " \n",
    "print(yes_proportion_2)\n",
    "print(estimated_p_2)"
   ]
  },
  {
   "cell_type": "code",
   "execution_count": 28,
   "metadata": {},
   "outputs": [
    {
     "name": "stdout",
     "output_type": "stream",
     "text": [
      "P[M(x) ∈ S] = 1.0000, e^ε * P[M(y) ∈ S] + δ = 1.1052\n"
     ]
    }
   ],
   "source": [
    "'''\n",
    "this is the differential privacy formula:\n",
    "Pr[M(x) ∈ S] ≤ exp(ε)Pr[M(y) ∈ S]+δ,\n",
    "'''\n",
    "# Define the range S (e.g., estimated proportions between 0.4 and 0.6)\n",
    "lower_bound = 0.3\n",
    "upper_bound = 0.7\n",
    "\n",
    "# Simulate probabilities by checking if the estimated values fall within S\n",
    "P_x = 1 if lower_bound <= estimated_p_1 <= upper_bound else 0\n",
    "P_y = 1 if lower_bound <= estimated_p_2 <= upper_bound else 0\n",
    "\n",
    "# Differential privacy check\n",
    "epsilon = 0.1\n",
    "delta = 0  # Pure DP\n",
    "privacy_bound = np.exp(epsilon) * P_y + delta\n",
    "\n",
    "print(f\"P[M(x) ∈ S] = {P_x:.4f}, e^ε * P[M(y) ∈ S] + δ = {privacy_bound:.4f}\")"
   ]
  },
  {
   "cell_type": "code",
   "execution_count": 29,
   "metadata": {},
   "outputs": [
    {
     "data": {
      "image/png": "[encoded data removed]",
      "text/plain": [
       "<Figure size 1000x600 with 1 Axes>"
      ]
     },
     "metadata": {},
     "output_type": "display_data"
    }
   ],
   "source": [
    "#plotting the results\n",
    "plt.figure(figsize=(10, 6))\n",
    "plt.bar([0, 1], [yes_proportion_1, yes_proportion_2], color=['blue', 'red'])\n",
    "plt.xticks([0, 1], ['Dataset 1', 'Dataset 2'])\n",
    "plt.ylabel('Proportion of Yes responses')\n",
    "plt.title('Proportion of Yes responses in two datasets')\n",
    "plt.show()\n"
   ]
  }
 ],
 "metadata": {
  "kernelspec": {
   "display_name": "base",
   "language": "python",
   "name": "python3"
  },
  "language_info": {
   "codemirror_mode": {
    "name": "ipython",
    "version": 3
   },
   "file_extension": ".py",
   "mimetype": "text/x-python",
   "name": "python",
   "nbconvert_exporter": "python",
   "pygments_lexer": "ipython3",
   "version": "3.12.7"
  }
 },
 "nbformat": 4,
 "nbformat_minor": 2
}
