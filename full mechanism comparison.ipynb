{
 "cells": [
  {
   "cell_type": "code",
   "execution_count": 7,
   "metadata": {},
   "outputs": [
    {
     "name": "stdout",
     "output_type": "stream",
     "text": [
      "True Average: 4.20\n",
      "Laplace Noisy Average: 2.27\n",
      "Gaussian Noisy Average: -1.43\n",
      "Exponential Selected Movie: Movie B\n"
     ]
    },
    {
     "ename": "TypeError",
     "evalue": "mse() missing 1 required positional argument: 'sensitivity'",
     "output_type": "error",
     "traceback": [
      "\u001b[1;31m---------------------------------------------------------------------------\u001b[0m",
      "\u001b[1;31mTypeError\u001b[0m                                 Traceback (most recent call last)",
      "Cell \u001b[1;32mIn[7], line 51\u001b[0m\n\u001b[0;32m     48\u001b[0m         errors\u001b[38;5;241m.\u001b[39mappend((noisy \u001b[38;5;241m-\u001b[39m true_value) \u001b[38;5;241m*\u001b[39m\u001b[38;5;241m*\u001b[39m \u001b[38;5;241m2\u001b[39m)\n\u001b[0;32m     49\u001b[0m     \u001b[38;5;28;01mreturn\u001b[39;00m np\u001b[38;5;241m.\u001b[39mmean(errors)\n\u001b[1;32m---> 51\u001b[0m \u001b[38;5;28mprint\u001b[39m(\u001b[38;5;124mf\u001b[39m\u001b[38;5;124m\"\u001b[39m\u001b[38;5;124mLaplace MSE: \u001b[39m\u001b[38;5;132;01m{\u001b[39;00mmse(laplace_mechanism,\u001b[38;5;250m \u001b[39mavg_movie_a,\u001b[38;5;250m \u001b[39mepsilon,\u001b[38;5;250m \u001b[39msensitivity_avg)\u001b[38;5;132;01m:\u001b[39;00m\u001b[38;5;124m.4f\u001b[39m\u001b[38;5;132;01m}\u001b[39;00m\u001b[38;5;124m\"\u001b[39m)\n\u001b[0;32m     52\u001b[0m \u001b[38;5;28mprint\u001b[39m(\u001b[38;5;124mf\u001b[39m\u001b[38;5;124m\"\u001b[39m\u001b[38;5;124mGaussian MSE: \u001b[39m\u001b[38;5;132;01m{\u001b[39;00mmse(gaussian_mechanism,\u001b[38;5;250m \u001b[39mavg_movie_a,\u001b[38;5;250m \u001b[39mepsilon,\u001b[38;5;250m \u001b[39mdelta,\u001b[38;5;250m \u001b[39msensitivity_avg)\u001b[38;5;132;01m:\u001b[39;00m\u001b[38;5;124m.4f\u001b[39m\u001b[38;5;132;01m}\u001b[39;00m\u001b[38;5;124m\"\u001b[39m)\n\u001b[0;32m     54\u001b[0m \u001b[38;5;66;03m# Exponential Accuracy\u001b[39;00m\n",
      "\u001b[1;31mTypeError\u001b[0m: mse() missing 1 required positional argument: 'sensitivity'"
     ]
    }
   ],
   "source": [
    "import numpy as np\n",
    "\n",
    "# Data\n",
    "data = {\n",
    "    \"Movie A\": [5, 4, 3, 5, 4],\n",
    "    \"Movie B\": [2, 3, 4, 2, 1],\n",
    "    \"Movie C\": [1, 2, 1, 1, 2]\n",
    "}\n",
    "\n",
    "# Laplace Mechanism\n",
    "def laplace_mechanism(true_value, epsilon, sensitivity):\n",
    "    noise = np.random.laplace(0, sensitivity / epsilon)\n",
    "    return true_value + noise\n",
    "\n",
    "# Gaussian Mechanism\n",
    "def gaussian_mechanism(true_value, epsilon, delta, sensitivity):\n",
    "    sigma = (sensitivity / epsilon) * np.sqrt(2 * np.log(1.25 / delta))\n",
    "    return true_value + np.random.normal(0, sigma)\n",
    "\n",
    "# Exponential Mechanism\n",
    "def exponential_mechanism(items, scores, epsilon, sensitivity):\n",
    "    weights = [np.exp(epsilon * score / (2 * sensitivity)) for score in scores]\n",
    "    prob = weights / np.sum(weights)\n",
    "    return np.random.choice(items, p=prob)\n",
    "\n",
    "# Parameters\n",
    "epsilon = 0.5\n",
    "delta = 1e-5\n",
    "avg_movie_a = np.mean(data[\"Movie A\"])\n",
    "sensitivity_avg = (5 - 1) / len(data[\"Movie A\"])  # For Laplace/Gaussian\n",
    "sensitivity_exp = 5  # For Exponential (max rating change)\n",
    "\n",
    "# Test Laplace/Gaussian\n",
    "print(f\"True Average: {avg_movie_a:.2f}\")\n",
    "print(f\"Laplace Noisy Average: {laplace_mechanism(avg_movie_a, epsilon, sensitivity_avg):.2f}\")\n",
    "print(f\"Gaussian Noisy Average: {gaussian_mechanism(avg_movie_a, epsilon, delta, sensitivity_avg):.2f}\")\n",
    "\n",
    "# Test Exponential\n",
    "movies = list(data.keys())\n",
    "scores = [sum(ratings) for ratings in data.values()]\n",
    "print(f\"Exponential Selected Movie: {exponential_mechanism(movies, scores, epsilon, sensitivity_exp)}\")\n",
    "\n",
    "# Compare MSE (Laplace vs. Gaussian)\n",
    "def mse(mechanism, true_value, epsilon, delta, sensitivity, trials=1000):\n",
    "    errors = []\n",
    "    for _ in range(trials):\n",
    "        noisy = mechanism(true_value, epsilon, delta, sensitivity)\n",
    "        errors.append((noisy - true_value) ** 2)\n",
    "    return np.mean(errors)\n",
    "\n",
    "print(f\"Laplace MSE: {mse(laplace_mechanism, avg_movie_a, epsilon, sensitivity_avg):.4f}\")\n",
    "print(f\"Gaussian MSE: {mse(gaussian_mechanism, avg_movie_a, epsilon, delta, sensitivity_avg):.4f}\")\n",
    "\n",
    "# Exponential Accuracy\n",
    "trials = 1000\n",
    "correct = sum([exponential_mechanism(movies, scores, epsilon, sensitivity_exp) == \"Movie A\" for _ in range(trials)])\n",
    "print(f\"Exponential Accuracy: {correct / trials * 100:.1f}%\")"
   ]
  }
 ],
 "metadata": {
  "kernelspec": {
   "display_name": "base",
   "language": "python",
   "name": "python3"
  },
  "language_info": {
   "codemirror_mode": {
    "name": "ipython",
    "version": 3
   },
   "file_extension": ".py",
   "mimetype": "text/x-python",
   "name": "python",
   "nbconvert_exporter": "python",
   "pygments_lexer": "ipython3",
   "version": "3.12.7"
  }
 },
 "nbformat": 4,
 "nbformat_minor": 2
}
